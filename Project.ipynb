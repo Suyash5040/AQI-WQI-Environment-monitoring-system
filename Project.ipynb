{
 "cells": [
  {
   "cell_type": "code",
   "execution_count": 53,
   "id": "4f3e563d",
   "metadata": {},
   "outputs": [],
   "source": [
    "import numpy as np\n",
    "import pandas as pd\n",
    "import seaborn as sns\n",
    "import matplotlib.pyplot as plt\n",
    "import warnings\n",
    "warnings.filterwarnings(\"ignore\")\n",
    "from sklearn.preprocessing import LabelEncoder\n",
    "from sklearn.model_selection import train_test_split\n",
    "from sklearn.linear_model import LinearRegression\n",
    "from sklearn.tree import DecisionTreeRegressor\n",
    "from sklearn.ensemble import RandomForestRegressor\n",
    "from sklearn import metrics\n",
    "from sklearn.metrics import mean_absolute_error, mean_squared_error, r2_score\n",
    "from sklearn.metrics import accuracy_score, confusion_matrix"
   ]
  },
  {
   "cell_type": "code",
   "execution_count": 54,
   "id": "af8c0322",
   "metadata": {},
   "outputs": [],
   "source": [
    "df=pd.read_csv('Air pollution.csv',encoding='unicode_escape')"
   ]
  },
  {
   "cell_type": "code",
   "execution_count": 55,
   "id": "55f3f6ef",
   "metadata": {},
   "outputs": [
    {
     "data": {
      "text/html": [
       "<div>\n",
       "<style scoped>\n",
       "    .dataframe tbody tr th:only-of-type {\n",
       "        vertical-align: middle;\n",
       "    }\n",
       "\n",
       "    .dataframe tbody tr th {\n",
       "        vertical-align: top;\n",
       "    }\n",
       "\n",
       "    .dataframe thead th {\n",
       "        text-align: right;\n",
       "    }\n",
       "</style>\n",
       "<table border=\"1\" class=\"dataframe\">\n",
       "  <thead>\n",
       "    <tr style=\"text-align: right;\">\n",
       "      <th></th>\n",
       "      <th>State</th>\n",
       "      <th>SO2</th>\n",
       "      <th>NO2</th>\n",
       "      <th>PM25</th>\n",
       "      <th>PM10</th>\n",
       "    </tr>\n",
       "  </thead>\n",
       "  <tbody>\n",
       "    <tr>\n",
       "      <th>0</th>\n",
       "      <td>Andhra Pradesh</td>\n",
       "      <td>4.8</td>\n",
       "      <td>17.4</td>\n",
       "      <td>NaN</td>\n",
       "      <td>NaN</td>\n",
       "    </tr>\n",
       "    <tr>\n",
       "      <th>1</th>\n",
       "      <td>Andhra Pradesh</td>\n",
       "      <td>3.1</td>\n",
       "      <td>7.0</td>\n",
       "      <td>NaN</td>\n",
       "      <td>NaN</td>\n",
       "    </tr>\n",
       "    <tr>\n",
       "      <th>2</th>\n",
       "      <td>Andhra Pradesh</td>\n",
       "      <td>6.2</td>\n",
       "      <td>28.5</td>\n",
       "      <td>NaN</td>\n",
       "      <td>NaN</td>\n",
       "    </tr>\n",
       "    <tr>\n",
       "      <th>3</th>\n",
       "      <td>Andhra Pradesh</td>\n",
       "      <td>6.3</td>\n",
       "      <td>14.7</td>\n",
       "      <td>NaN</td>\n",
       "      <td>NaN</td>\n",
       "    </tr>\n",
       "    <tr>\n",
       "      <th>4</th>\n",
       "      <td>Andhra Pradesh</td>\n",
       "      <td>4.7</td>\n",
       "      <td>7.5</td>\n",
       "      <td>NaN</td>\n",
       "      <td>NaN</td>\n",
       "    </tr>\n",
       "  </tbody>\n",
       "</table>\n",
       "</div>"
      ],
      "text/plain": [
       "            State  SO2   NO2  PM25  PM10\n",
       "0  Andhra Pradesh  4.8  17.4   NaN   NaN\n",
       "1  Andhra Pradesh  3.1   7.0   NaN   NaN\n",
       "2  Andhra Pradesh  6.2  28.5   NaN   NaN\n",
       "3  Andhra Pradesh  6.3  14.7   NaN   NaN\n",
       "4  Andhra Pradesh  4.7   7.5   NaN   NaN"
      ]
     },
     "execution_count": 55,
     "metadata": {},
     "output_type": "execute_result"
    }
   ],
   "source": [
    "df.head()\n",
    "#Loading The Data Set"
   ]
  },
  {
   "cell_type": "code",
   "execution_count": 56,
   "id": "94aa3e21",
   "metadata": {},
   "outputs": [
    {
     "data": {
      "text/plain": [
       "State\n",
       "Maharashtra                    60384\n",
       "Uttar Pradesh                  42816\n",
       "Andhra Pradesh                 26368\n",
       "Punjab                         25634\n",
       "Rajasthan                      25589\n",
       "Kerala                         24728\n",
       "Himachal Pradesh               22896\n",
       "West Bengal                    22463\n",
       "Gujarat                        21279\n",
       "Tamil Nadu                     20597\n",
       "Madhya Pradesh                 19920\n",
       "Assam                          19361\n",
       "Odisha                         19279\n",
       "Karnataka                      17119\n",
       "Delhi                           8551\n",
       "Chandigarh                      8520\n",
       "Chhattisgarh                    7831\n",
       "Goa                             6206\n",
       "Jharkhand                       5968\n",
       "Mizoram                         5338\n",
       "Telangana                       3978\n",
       "Meghalaya                       3853\n",
       "Puducherry                      3785\n",
       "Haryana                         3420\n",
       "Nagaland                        2463\n",
       "Bihar                           2275\n",
       "Uttarakhand                     1961\n",
       "Jammu & Kashmir                 1289\n",
       "Daman & Diu                      782\n",
       "Dadra & Nagar Haveli             634\n",
       "Uttaranchal                      285\n",
       "Arunachal Pradesh                 90\n",
       "Manipur                           76\n",
       "Sikkim                             1\n",
       "andaman-and-nicobar-islands        1\n",
       "Lakshadweep                        1\n",
       "Tripura                            1\n",
       "Name: count, dtype: int64"
      ]
     },
     "execution_count": 56,
     "metadata": {},
     "output_type": "execute_result"
    }
   ],
   "source": [
    "df['State'].value_counts()"
   ]
  },
  {
   "cell_type": "code",
   "execution_count": 57,
   "id": "682b8be3",
   "metadata": {},
   "outputs": [
    {
     "data": {
      "text/plain": [
       "(435742, 5)"
      ]
     },
     "execution_count": 57,
     "metadata": {},
     "output_type": "execute_result"
    }
   ],
   "source": [
    "df.shape\n",
    "#To find Rows and Columns"
   ]
  },
  {
   "cell_type": "code",
   "execution_count": 58,
   "id": "8b6b15dc",
   "metadata": {},
   "outputs": [
    {
     "name": "stdout",
     "output_type": "stream",
     "text": [
      "<class 'pandas.core.frame.DataFrame'>\n",
      "RangeIndex: 435742 entries, 0 to 435741\n",
      "Data columns (total 5 columns):\n",
      " #   Column  Non-Null Count   Dtype  \n",
      "---  ------  --------------   -----  \n",
      " 0   State   435742 non-null  object \n",
      " 1   SO2     401096 non-null  float64\n",
      " 2   NO2     419509 non-null  float64\n",
      " 3   PM25    395520 non-null  float64\n",
      " 4   PM10    198355 non-null  float64\n",
      "dtypes: float64(4), object(1)\n",
      "memory usage: 16.6+ MB\n"
     ]
    }
   ],
   "source": [
    "df.info()\n",
    "#Overall Info of Data Set"
   ]
  },
  {
   "cell_type": "code",
   "execution_count": 59,
   "id": "d868dbfe",
   "metadata": {},
   "outputs": [
    {
     "data": {
      "text/plain": [
       "State         0\n",
       "SO2       34646\n",
       "NO2       16233\n",
       "PM25      40222\n",
       "PM10     237387\n",
       "dtype: int64"
      ]
     },
     "execution_count": 59,
     "metadata": {},
     "output_type": "execute_result"
    }
   ],
   "source": [
    "df.isnull().sum()\n",
    "#Give the clear picture of Null or missing values"
   ]
  },
  {
   "cell_type": "code",
   "execution_count": 60,
   "id": "1b041578",
   "metadata": {},
   "outputs": [
    {
     "data": {
      "text/html": [
       "<div>\n",
       "<style scoped>\n",
       "    .dataframe tbody tr th:only-of-type {\n",
       "        vertical-align: middle;\n",
       "    }\n",
       "\n",
       "    .dataframe tbody tr th {\n",
       "        vertical-align: top;\n",
       "    }\n",
       "\n",
       "    .dataframe thead th {\n",
       "        text-align: right;\n",
       "    }\n",
       "</style>\n",
       "<table border=\"1\" class=\"dataframe\">\n",
       "  <thead>\n",
       "    <tr style=\"text-align: right;\">\n",
       "      <th></th>\n",
       "      <th>SO2</th>\n",
       "      <th>NO2</th>\n",
       "      <th>PM25</th>\n",
       "      <th>PM10</th>\n",
       "    </tr>\n",
       "  </thead>\n",
       "  <tbody>\n",
       "    <tr>\n",
       "      <th>count</th>\n",
       "      <td>401096.000000</td>\n",
       "      <td>419509.000000</td>\n",
       "      <td>395520.000000</td>\n",
       "      <td>198355.000000</td>\n",
       "    </tr>\n",
       "    <tr>\n",
       "      <th>mean</th>\n",
       "      <td>10.829414</td>\n",
       "      <td>25.809623</td>\n",
       "      <td>108.832784</td>\n",
       "      <td>220.783480</td>\n",
       "    </tr>\n",
       "    <tr>\n",
       "      <th>std</th>\n",
       "      <td>11.177187</td>\n",
       "      <td>18.503086</td>\n",
       "      <td>74.872430</td>\n",
       "      <td>151.395457</td>\n",
       "    </tr>\n",
       "    <tr>\n",
       "      <th>min</th>\n",
       "      <td>0.000000</td>\n",
       "      <td>0.000000</td>\n",
       "      <td>0.000000</td>\n",
       "      <td>0.000000</td>\n",
       "    </tr>\n",
       "    <tr>\n",
       "      <th>25%</th>\n",
       "      <td>5.000000</td>\n",
       "      <td>14.000000</td>\n",
       "      <td>56.000000</td>\n",
       "      <td>111.000000</td>\n",
       "    </tr>\n",
       "    <tr>\n",
       "      <th>50%</th>\n",
       "      <td>8.000000</td>\n",
       "      <td>22.000000</td>\n",
       "      <td>90.000000</td>\n",
       "      <td>187.000000</td>\n",
       "    </tr>\n",
       "    <tr>\n",
       "      <th>75%</th>\n",
       "      <td>13.700000</td>\n",
       "      <td>32.200000</td>\n",
       "      <td>142.000000</td>\n",
       "      <td>296.000000</td>\n",
       "    </tr>\n",
       "    <tr>\n",
       "      <th>max</th>\n",
       "      <td>909.000000</td>\n",
       "      <td>876.000000</td>\n",
       "      <td>6307.033333</td>\n",
       "      <td>3380.000000</td>\n",
       "    </tr>\n",
       "  </tbody>\n",
       "</table>\n",
       "</div>"
      ],
      "text/plain": [
       "                 SO2            NO2           PM25           PM10\n",
       "count  401096.000000  419509.000000  395520.000000  198355.000000\n",
       "mean       10.829414      25.809623     108.832784     220.783480\n",
       "std        11.177187      18.503086      74.872430     151.395457\n",
       "min         0.000000       0.000000       0.000000       0.000000\n",
       "25%         5.000000      14.000000      56.000000     111.000000\n",
       "50%         8.000000      22.000000      90.000000     187.000000\n",
       "75%        13.700000      32.200000     142.000000     296.000000\n",
       "max       909.000000     876.000000    6307.033333    3380.000000"
      ]
     },
     "execution_count": 60,
     "metadata": {},
     "output_type": "execute_result"
    }
   ],
   "source": [
    "df.describe()"
   ]
  },
  {
   "cell_type": "code",
   "execution_count": 61,
   "id": "939b6e79",
   "metadata": {},
   "outputs": [
    {
     "data": {
      "text/plain": [
       "State      37\n",
       "SO2      4197\n",
       "NO2      6864\n",
       "PM25     6065\n",
       "PM10     6668\n",
       "dtype: int64"
      ]
     },
     "execution_count": 61,
     "metadata": {},
     "output_type": "execute_result"
    }
   ],
   "source": [
    "df.nunique()\n",
    "#Show unique values"
   ]
  },
  {
   "cell_type": "code",
   "execution_count": 62,
   "id": "a17c6b92",
   "metadata": {},
   "outputs": [],
   "source": [
    "nullvalues=df.isnull().sum().sort_values(ascending=False)\n",
    "#checking all Null values"
   ]
  },
  {
   "cell_type": "code",
   "execution_count": 63,
   "id": "4df42ef2",
   "metadata": {},
   "outputs": [
    {
     "data": {
      "text/plain": [
       "PM10     237387\n",
       "PM25      40222\n",
       "SO2       34646\n",
       "NO2       16233\n",
       "State         0\n",
       "dtype: int64"
      ]
     },
     "execution_count": 63,
     "metadata": {},
     "output_type": "execute_result"
    }
   ],
   "source": [
    "nullvalues"
   ]
  },
  {
   "cell_type": "code",
   "execution_count": 64,
   "id": "1c5e45fb",
   "metadata": {},
   "outputs": [
    {
     "data": {
      "text/html": [
       "<div>\n",
       "<style scoped>\n",
       "    .dataframe tbody tr th:only-of-type {\n",
       "        vertical-align: middle;\n",
       "    }\n",
       "\n",
       "    .dataframe tbody tr th {\n",
       "        vertical-align: top;\n",
       "    }\n",
       "\n",
       "    .dataframe thead th {\n",
       "        text-align: right;\n",
       "    }\n",
       "</style>\n",
       "<table border=\"1\" class=\"dataframe\">\n",
       "  <thead>\n",
       "    <tr style=\"text-align: right;\">\n",
       "      <th></th>\n",
       "      <th>Total</th>\n",
       "      <th>Percent</th>\n",
       "    </tr>\n",
       "  </thead>\n",
       "  <tbody>\n",
       "    <tr>\n",
       "      <th>PM10</th>\n",
       "      <td>237387</td>\n",
       "      <td>54.478797</td>\n",
       "    </tr>\n",
       "    <tr>\n",
       "      <th>PM25</th>\n",
       "      <td>40222</td>\n",
       "      <td>9.230692</td>\n",
       "    </tr>\n",
       "    <tr>\n",
       "      <th>SO2</th>\n",
       "      <td>34646</td>\n",
       "      <td>7.951035</td>\n",
       "    </tr>\n",
       "    <tr>\n",
       "      <th>NO2</th>\n",
       "      <td>16233</td>\n",
       "      <td>3.725370</td>\n",
       "    </tr>\n",
       "    <tr>\n",
       "      <th>State</th>\n",
       "      <td>0</td>\n",
       "      <td>0.000000</td>\n",
       "    </tr>\n",
       "  </tbody>\n",
       "</table>\n",
       "</div>"
      ],
      "text/plain": [
       "        Total    Percent\n",
       "PM10   237387  54.478797\n",
       "PM25    40222   9.230692\n",
       "SO2     34646   7.951035\n",
       "NO2     16233   3.725370\n",
       "State       0   0.000000"
      ]
     },
     "execution_count": 64,
     "metadata": {},
     "output_type": "execute_result"
    }
   ],
   "source": [
    "null_value_percentage = (df.isnull().sum()/df.isnull().count()*100).sort_values(ascending=False)\n",
    "#Count Return Non-NAN values\n",
    "missing_data_with_percentage=pd.concat([nullvalues,null_value_percentage],axis=1,keys=['Total','Percent'])\n",
    "#concatenating total null values and their percentage of missing value  for further imputation or column deletion\n",
    "missing_data_with_percentage"
   ]
  },
  {
   "cell_type": "code",
   "execution_count": 65,
   "id": "4c5ac11e",
   "metadata": {},
   "outputs": [],
   "source": [
    "#Null values imputation for categorical data\n",
    "df['State']=df['State'].fillna(df['State'].mode()[0])"
   ]
  },
  {
   "cell_type": "code",
   "execution_count": 66,
   "id": "d2c39ca2",
   "metadata": {},
   "outputs": [],
   "source": [
    "df.fillna(0,inplace=True)\n",
    "#Null Values get replace with zero for the numerical data"
   ]
  },
  {
   "cell_type": "code",
   "execution_count": 67,
   "id": "1e01215a",
   "metadata": {},
   "outputs": [
    {
     "data": {
      "text/plain": [
       "State    0\n",
       "SO2      0\n",
       "NO2      0\n",
       "PM25     0\n",
       "PM10     0\n",
       "dtype: int64"
      ]
     },
     "execution_count": 67,
     "metadata": {},
     "output_type": "execute_result"
    }
   ],
   "source": [
    "df.isnull().sum()"
   ]
  },
  {
   "cell_type": "code",
   "execution_count": 68,
   "id": "f02b4c2f",
   "metadata": {},
   "outputs": [
    {
     "data": {
      "text/html": [
       "<div>\n",
       "<style scoped>\n",
       "    .dataframe tbody tr th:only-of-type {\n",
       "        vertical-align: middle;\n",
       "    }\n",
       "\n",
       "    .dataframe tbody tr th {\n",
       "        vertical-align: top;\n",
       "    }\n",
       "\n",
       "    .dataframe thead th {\n",
       "        text-align: right;\n",
       "    }\n",
       "</style>\n",
       "<table border=\"1\" class=\"dataframe\">\n",
       "  <thead>\n",
       "    <tr style=\"text-align: right;\">\n",
       "      <th></th>\n",
       "      <th>State</th>\n",
       "      <th>SO2</th>\n",
       "      <th>NO2</th>\n",
       "      <th>PM25</th>\n",
       "      <th>PM10</th>\n",
       "    </tr>\n",
       "  </thead>\n",
       "  <tbody>\n",
       "    <tr>\n",
       "      <th>0</th>\n",
       "      <td>Andhra Pradesh</td>\n",
       "      <td>4.8</td>\n",
       "      <td>17.4</td>\n",
       "      <td>0.0</td>\n",
       "      <td>0.0</td>\n",
       "    </tr>\n",
       "    <tr>\n",
       "      <th>1</th>\n",
       "      <td>Andhra Pradesh</td>\n",
       "      <td>3.1</td>\n",
       "      <td>7.0</td>\n",
       "      <td>0.0</td>\n",
       "      <td>0.0</td>\n",
       "    </tr>\n",
       "    <tr>\n",
       "      <th>2</th>\n",
       "      <td>Andhra Pradesh</td>\n",
       "      <td>6.2</td>\n",
       "      <td>28.5</td>\n",
       "      <td>0.0</td>\n",
       "      <td>0.0</td>\n",
       "    </tr>\n",
       "    <tr>\n",
       "      <th>3</th>\n",
       "      <td>Andhra Pradesh</td>\n",
       "      <td>6.3</td>\n",
       "      <td>14.7</td>\n",
       "      <td>0.0</td>\n",
       "      <td>0.0</td>\n",
       "    </tr>\n",
       "    <tr>\n",
       "      <th>4</th>\n",
       "      <td>Andhra Pradesh</td>\n",
       "      <td>4.7</td>\n",
       "      <td>7.5</td>\n",
       "      <td>0.0</td>\n",
       "      <td>0.0</td>\n",
       "    </tr>\n",
       "    <tr>\n",
       "      <th>...</th>\n",
       "      <td>...</td>\n",
       "      <td>...</td>\n",
       "      <td>...</td>\n",
       "      <td>...</td>\n",
       "      <td>...</td>\n",
       "    </tr>\n",
       "    <tr>\n",
       "      <th>435737</th>\n",
       "      <td>West Bengal</td>\n",
       "      <td>22.0</td>\n",
       "      <td>50.0</td>\n",
       "      <td>143.0</td>\n",
       "      <td>0.0</td>\n",
       "    </tr>\n",
       "    <tr>\n",
       "      <th>435738</th>\n",
       "      <td>West Bengal</td>\n",
       "      <td>20.0</td>\n",
       "      <td>46.0</td>\n",
       "      <td>171.0</td>\n",
       "      <td>0.0</td>\n",
       "    </tr>\n",
       "    <tr>\n",
       "      <th>435739</th>\n",
       "      <td>andaman-and-nicobar-islands</td>\n",
       "      <td>0.0</td>\n",
       "      <td>0.0</td>\n",
       "      <td>0.0</td>\n",
       "      <td>0.0</td>\n",
       "    </tr>\n",
       "    <tr>\n",
       "      <th>435740</th>\n",
       "      <td>Lakshadweep</td>\n",
       "      <td>0.0</td>\n",
       "      <td>0.0</td>\n",
       "      <td>0.0</td>\n",
       "      <td>0.0</td>\n",
       "    </tr>\n",
       "    <tr>\n",
       "      <th>435741</th>\n",
       "      <td>Tripura</td>\n",
       "      <td>0.0</td>\n",
       "      <td>0.0</td>\n",
       "      <td>0.0</td>\n",
       "      <td>0.0</td>\n",
       "    </tr>\n",
       "  </tbody>\n",
       "</table>\n",
       "<p>435742 rows × 5 columns</p>\n",
       "</div>"
      ],
      "text/plain": [
       "                              State   SO2   NO2   PM25  PM10\n",
       "0                    Andhra Pradesh   4.8  17.4    0.0   0.0\n",
       "1                    Andhra Pradesh   3.1   7.0    0.0   0.0\n",
       "2                    Andhra Pradesh   6.2  28.5    0.0   0.0\n",
       "3                    Andhra Pradesh   6.3  14.7    0.0   0.0\n",
       "4                    Andhra Pradesh   4.7   7.5    0.0   0.0\n",
       "...                             ...   ...   ...    ...   ...\n",
       "435737                  West Bengal  22.0  50.0  143.0   0.0\n",
       "435738                  West Bengal  20.0  46.0  171.0   0.0\n",
       "435739  andaman-and-nicobar-islands   0.0   0.0    0.0   0.0\n",
       "435740                  Lakshadweep   0.0   0.0    0.0   0.0\n",
       "435741                      Tripura   0.0   0.0    0.0   0.0\n",
       "\n",
       "[435742 rows x 5 columns]"
      ]
     },
     "execution_count": 68,
     "metadata": {},
     "output_type": "execute_result"
    }
   ],
   "source": [
    "df\n",
    "#The following is important for our machine learning models|"
   ]
  },
  {
   "cell_type": "code",
   "execution_count": 69,
   "id": "f8fd83fa",
   "metadata": {},
   "outputs": [
    {
     "data": {
      "text/html": [
       "<div>\n",
       "<style scoped>\n",
       "    .dataframe tbody tr th:only-of-type {\n",
       "        vertical-align: middle;\n",
       "    }\n",
       "\n",
       "    .dataframe tbody tr th {\n",
       "        vertical-align: top;\n",
       "    }\n",
       "\n",
       "    .dataframe thead th {\n",
       "        text-align: right;\n",
       "    }\n",
       "</style>\n",
       "<table border=\"1\" class=\"dataframe\">\n",
       "  <thead>\n",
       "    <tr style=\"text-align: right;\">\n",
       "      <th></th>\n",
       "      <th>SO2</th>\n",
       "      <th>SOi</th>\n",
       "    </tr>\n",
       "  </thead>\n",
       "  <tbody>\n",
       "    <tr>\n",
       "      <th>0</th>\n",
       "      <td>4.8</td>\n",
       "      <td>6.000</td>\n",
       "    </tr>\n",
       "    <tr>\n",
       "      <th>1</th>\n",
       "      <td>3.1</td>\n",
       "      <td>3.875</td>\n",
       "    </tr>\n",
       "    <tr>\n",
       "      <th>2</th>\n",
       "      <td>6.2</td>\n",
       "      <td>7.750</td>\n",
       "    </tr>\n",
       "    <tr>\n",
       "      <th>3</th>\n",
       "      <td>6.3</td>\n",
       "      <td>7.875</td>\n",
       "    </tr>\n",
       "    <tr>\n",
       "      <th>4</th>\n",
       "      <td>4.7</td>\n",
       "      <td>5.875</td>\n",
       "    </tr>\n",
       "  </tbody>\n",
       "</table>\n",
       "</div>"
      ],
      "text/plain": [
       "   SO2    SOi\n",
       "0  4.8  6.000\n",
       "1  3.1  3.875\n",
       "2  6.2  7.750\n",
       "3  6.3  7.875\n",
       "4  4.7  5.875"
      ]
     },
     "execution_count": 69,
     "metadata": {},
     "output_type": "execute_result"
    }
   ],
   "source": [
    "def cal_SOi(SO2): \n",
    "    si=0\n",
    "    if (SO2<=40):\n",
    "        si=SO2*(50/40)\n",
    "    elif (SO2>40 and SO2<=80):\n",
    "        si=50+(SO2-40)*(50/40)\n",
    "    elif (SO2>80 and SO2<=380):\n",
    "        si=100+(SO2-80)*(100/300)\n",
    "    elif (SO2>380 and SO2<=800):\n",
    "        si=200+ (SO2-380)*(100/800)\n",
    "    elif (SO2>800 and SO2<=1600):\n",
    "        si=300+(SO2-800)*(100/800)\n",
    "    elif (SO2>1600):\n",
    "        si=400+(SO2-1600)*(100/800)\n",
    "    return si\n",
    "df['SOi']=df['SO2'].apply(cal_SOi)\n",
    "data=df[['SO2', 'SOi']]\n",
    "data.head()\n",
    "#Calculating the individual pollutant index for SO2 "
   ]
  },
  {
   "cell_type": "code",
   "execution_count": 70,
   "id": "da289e52",
   "metadata": {},
   "outputs": [
    {
     "data": {
      "text/html": [
       "<div>\n",
       "<style scoped>\n",
       "    .dataframe tbody tr th:only-of-type {\n",
       "        vertical-align: middle;\n",
       "    }\n",
       "\n",
       "    .dataframe tbody tr th {\n",
       "        vertical-align: top;\n",
       "    }\n",
       "\n",
       "    .dataframe thead th {\n",
       "        text-align: right;\n",
       "    }\n",
       "</style>\n",
       "<table border=\"1\" class=\"dataframe\">\n",
       "  <thead>\n",
       "    <tr style=\"text-align: right;\">\n",
       "      <th></th>\n",
       "      <th>NO2</th>\n",
       "      <th>NOi</th>\n",
       "    </tr>\n",
       "  </thead>\n",
       "  <tbody>\n",
       "    <tr>\n",
       "      <th>0</th>\n",
       "      <td>17.4</td>\n",
       "      <td>21.750</td>\n",
       "    </tr>\n",
       "    <tr>\n",
       "      <th>1</th>\n",
       "      <td>7.0</td>\n",
       "      <td>8.750</td>\n",
       "    </tr>\n",
       "    <tr>\n",
       "      <th>2</th>\n",
       "      <td>28.5</td>\n",
       "      <td>35.625</td>\n",
       "    </tr>\n",
       "    <tr>\n",
       "      <th>3</th>\n",
       "      <td>14.7</td>\n",
       "      <td>18.375</td>\n",
       "    </tr>\n",
       "    <tr>\n",
       "      <th>4</th>\n",
       "      <td>7.5</td>\n",
       "      <td>9.375</td>\n",
       "    </tr>\n",
       "  </tbody>\n",
       "</table>\n",
       "</div>"
      ],
      "text/plain": [
       "    NO2     NOi\n",
       "0  17.4  21.750\n",
       "1   7.0   8.750\n",
       "2  28.5  35.625\n",
       "3  14.7  18.375\n",
       "4   7.5   9.375"
      ]
     },
     "execution_count": 70,
     "metadata": {},
     "output_type": "execute_result"
    }
   ],
   "source": [
    "def cal_NOi(NO2):\n",
    "    ni=0\n",
    "    if(NO2<=40):\n",
    "        ni=NO2*50/40\n",
    "    elif(NO2>40 and NO2<=80):\n",
    "        ni=50+(NO2-40)*(50/40)\n",
    "    elif(NO2>80 and NO2<=180):\n",
    "        ni=100+(NO2-80)*(100/100)\n",
    "    elif(NO2>180 and NO2<=280):\n",
    "        ni=200+(NO2-180)*(100/100)\n",
    "    elif(NO2>280 and NO2<=400):\n",
    "        ni=300+(NO2-280)*(100/120)\n",
    "    else:\n",
    "        ni=400+(NO2-400)*(100/120)\n",
    "    return ni\n",
    "df['NOi']=df['NO2'].apply(cal_NOi)\n",
    "data=df[['NO2','NOi']]\n",
    "data.head()\n",
    "#calculating the individual pollutant index for no2"
   ]
  },
  {
   "cell_type": "code",
   "execution_count": 71,
   "id": "e5b1757c",
   "metadata": {},
   "outputs": [
    {
     "data": {
      "text/html": [
       "<div>\n",
       "<style scoped>\n",
       "    .dataframe tbody tr th:only-of-type {\n",
       "        vertical-align: middle;\n",
       "    }\n",
       "\n",
       "    .dataframe tbody tr th {\n",
       "        vertical-align: top;\n",
       "    }\n",
       "\n",
       "    .dataframe thead th {\n",
       "        text-align: right;\n",
       "    }\n",
       "</style>\n",
       "<table border=\"1\" class=\"dataframe\">\n",
       "  <thead>\n",
       "    <tr style=\"text-align: right;\">\n",
       "      <th></th>\n",
       "      <th>PM25</th>\n",
       "      <th>PM25i</th>\n",
       "    </tr>\n",
       "  </thead>\n",
       "  <tbody>\n",
       "    <tr>\n",
       "      <th>0</th>\n",
       "      <td>0.0</td>\n",
       "      <td>0.0</td>\n",
       "    </tr>\n",
       "    <tr>\n",
       "      <th>1</th>\n",
       "      <td>0.0</td>\n",
       "      <td>0.0</td>\n",
       "    </tr>\n",
       "    <tr>\n",
       "      <th>2</th>\n",
       "      <td>0.0</td>\n",
       "      <td>0.0</td>\n",
       "    </tr>\n",
       "    <tr>\n",
       "      <th>3</th>\n",
       "      <td>0.0</td>\n",
       "      <td>0.0</td>\n",
       "    </tr>\n",
       "    <tr>\n",
       "      <th>4</th>\n",
       "      <td>0.0</td>\n",
       "      <td>0.0</td>\n",
       "    </tr>\n",
       "  </tbody>\n",
       "</table>\n",
       "</div>"
      ],
      "text/plain": [
       "   PM25  PM25i\n",
       "0   0.0    0.0\n",
       "1   0.0    0.0\n",
       "2   0.0    0.0\n",
       "3   0.0    0.0\n",
       "4   0.0    0.0"
      ]
     },
     "execution_count": 71,
     "metadata": {},
     "output_type": "execute_result"
    }
   ],
   "source": [
    "def cal_PM25i(PM25):\n",
    "    pm25i=0\n",
    "    if(PM25<=30):\n",
    "        pm25i=PM25*50/30\n",
    "    elif(PM25>30 and PM25<=60):\n",
    "        pm25i=50+(PM25-30)*(50/30)\n",
    "    elif(PM25>60 and PM25<=90):\n",
    "        pm25i=100+(PM25-60)*(100/30)\n",
    "    elif(PM25>90 and PM25<=120):\n",
    "        pm25i=200+(PM25-90)*(100/30)\n",
    "    elif(PM25>120 and PM25<=250):\n",
    "        pm25i=300+(PM25-120)*(100/130)\n",
    "    else:\n",
    "        pm25i=400+(PM25-250)*(100/130)\n",
    "    return pm25i\n",
    "df['PM25i']=df['PM25'].apply(cal_PM25i)\n",
    "data=df[['PM25','PM25i']]\n",
    "data.head()\n",
    "#calculating the individual pollutant index for RSMP"
   ]
  },
  {
   "cell_type": "code",
   "execution_count": 72,
   "id": "a93f21e6",
   "metadata": {},
   "outputs": [
    {
     "data": {
      "text/html": [
       "<div>\n",
       "<style scoped>\n",
       "    .dataframe tbody tr th:only-of-type {\n",
       "        vertical-align: middle;\n",
       "    }\n",
       "\n",
       "    .dataframe tbody tr th {\n",
       "        vertical-align: top;\n",
       "    }\n",
       "\n",
       "    .dataframe thead th {\n",
       "        text-align: right;\n",
       "    }\n",
       "</style>\n",
       "<table border=\"1\" class=\"dataframe\">\n",
       "  <thead>\n",
       "    <tr style=\"text-align: right;\">\n",
       "      <th></th>\n",
       "      <th>PM10</th>\n",
       "      <th>PM10i</th>\n",
       "    </tr>\n",
       "  </thead>\n",
       "  <tbody>\n",
       "    <tr>\n",
       "      <th>0</th>\n",
       "      <td>0.0</td>\n",
       "      <td>0.0</td>\n",
       "    </tr>\n",
       "    <tr>\n",
       "      <th>1</th>\n",
       "      <td>0.0</td>\n",
       "      <td>0.0</td>\n",
       "    </tr>\n",
       "    <tr>\n",
       "      <th>2</th>\n",
       "      <td>0.0</td>\n",
       "      <td>0.0</td>\n",
       "    </tr>\n",
       "    <tr>\n",
       "      <th>3</th>\n",
       "      <td>0.0</td>\n",
       "      <td>0.0</td>\n",
       "    </tr>\n",
       "    <tr>\n",
       "      <th>4</th>\n",
       "      <td>0.0</td>\n",
       "      <td>0.0</td>\n",
       "    </tr>\n",
       "  </tbody>\n",
       "</table>\n",
       "</div>"
      ],
      "text/plain": [
       "   PM10  PM10i\n",
       "0   0.0    0.0\n",
       "1   0.0    0.0\n",
       "2   0.0    0.0\n",
       "3   0.0    0.0\n",
       "4   0.0    0.0"
      ]
     },
     "execution_count": 72,
     "metadata": {},
     "output_type": "execute_result"
    }
   ],
   "source": [
    "def cal_PM10i(PM10):\n",
    "    pm10i=0\n",
    "    if(PM10<=50):\n",
    "        pm10i=PM10*50/50\n",
    "    elif(PM10>50 and PM10<=100):\n",
    "        pm10i=50+(PM10-50)*(50/50)\n",
    "    elif(PM10>100 and PM10<=250):\n",
    "        pm10i=100+(PM10-100)*(100/150)\n",
    "    elif(PM10>250 and PM10<=350):\n",
    "        pm10i=200+(PM10-250)*(100/100)\n",
    "    elif(PM10>120 and PM10<=250):\n",
    "        pm10i=(300+PM10-350)*(100/80)\n",
    "    else:\n",
    "        pm10i=400+(PM10-430)*(100/430)\n",
    "    return pm10i\n",
    "df['PM10i']=df['PM10'].apply(cal_PM10i)\n",
    "data=df[['PM10','PM10i']]\n",
    "data.head()"
   ]
  },
  {
   "cell_type": "code",
   "execution_count": 73,
   "id": "fdabc042",
   "metadata": {},
   "outputs": [
    {
     "data": {
      "text/html": [
       "<div>\n",
       "<style scoped>\n",
       "    .dataframe tbody tr th:only-of-type {\n",
       "        vertical-align: middle;\n",
       "    }\n",
       "\n",
       "    .dataframe tbody tr th {\n",
       "        vertical-align: top;\n",
       "    }\n",
       "\n",
       "    .dataframe thead th {\n",
       "        text-align: right;\n",
       "    }\n",
       "</style>\n",
       "<table border=\"1\" class=\"dataframe\">\n",
       "  <thead>\n",
       "    <tr style=\"text-align: right;\">\n",
       "      <th></th>\n",
       "      <th>State</th>\n",
       "      <th>SOi</th>\n",
       "      <th>NOi</th>\n",
       "      <th>PM25i</th>\n",
       "      <th>PM10i</th>\n",
       "      <th>AQI</th>\n",
       "    </tr>\n",
       "  </thead>\n",
       "  <tbody>\n",
       "    <tr>\n",
       "      <th>0</th>\n",
       "      <td>Andhra Pradesh</td>\n",
       "      <td>6.000</td>\n",
       "      <td>21.750</td>\n",
       "      <td>0.0</td>\n",
       "      <td>0.0</td>\n",
       "      <td>21.750</td>\n",
       "    </tr>\n",
       "    <tr>\n",
       "      <th>1</th>\n",
       "      <td>Andhra Pradesh</td>\n",
       "      <td>3.875</td>\n",
       "      <td>8.750</td>\n",
       "      <td>0.0</td>\n",
       "      <td>0.0</td>\n",
       "      <td>8.750</td>\n",
       "    </tr>\n",
       "    <tr>\n",
       "      <th>2</th>\n",
       "      <td>Andhra Pradesh</td>\n",
       "      <td>7.750</td>\n",
       "      <td>35.625</td>\n",
       "      <td>0.0</td>\n",
       "      <td>0.0</td>\n",
       "      <td>35.625</td>\n",
       "    </tr>\n",
       "    <tr>\n",
       "      <th>3</th>\n",
       "      <td>Andhra Pradesh</td>\n",
       "      <td>7.875</td>\n",
       "      <td>18.375</td>\n",
       "      <td>0.0</td>\n",
       "      <td>0.0</td>\n",
       "      <td>18.375</td>\n",
       "    </tr>\n",
       "    <tr>\n",
       "      <th>4</th>\n",
       "      <td>Andhra Pradesh</td>\n",
       "      <td>5.875</td>\n",
       "      <td>9.375</td>\n",
       "      <td>0.0</td>\n",
       "      <td>0.0</td>\n",
       "      <td>9.375</td>\n",
       "    </tr>\n",
       "  </tbody>\n",
       "</table>\n",
       "</div>"
      ],
      "text/plain": [
       "            State    SOi     NOi  PM25i  PM10i     AQI\n",
       "0  Andhra Pradesh  6.000  21.750    0.0    0.0  21.750\n",
       "1  Andhra Pradesh  3.875   8.750    0.0    0.0   8.750\n",
       "2  Andhra Pradesh  7.750  35.625    0.0    0.0  35.625\n",
       "3  Andhra Pradesh  7.875  18.375    0.0    0.0  18.375\n",
       "4  Andhra Pradesh  5.875   9.375    0.0    0.0   9.375"
      ]
     },
     "execution_count": 73,
     "metadata": {},
     "output_type": "execute_result"
    }
   ],
   "source": [
    "def cal_aqi(si,ni,pm25i,pm10i):\n",
    "    aqi=0\n",
    "    if(si>ni and si>pm25i and si>pm10i):\n",
    "        aqi=si\n",
    "    if(ni>si and ni>pm25i and ni>pm10i):\n",
    "        aqi=ni\n",
    "    if(pm25i>ni and pm25i>si and pm25i>pm10i):\n",
    "        aqi=pm25i\n",
    "    if(pm10i>si and pm10i>pm25i and pm10i>ni):\n",
    "        aqi=pm10i\n",
    "    return aqi\n",
    "\n",
    "df['AQI']=df.apply(lambda x:cal_aqi(x['SOi'],x['NOi'],x['PM25i'],x['PM10i']),axis=1)\n",
    "data=df[['State','SOi','NOi','PM25i','PM10i','AQI']]\n",
    "data.head()\n",
    "#Calculating the AQI"
   ]
  },
  {
   "cell_type": "code",
   "execution_count": 74,
   "id": "8b23255f",
   "metadata": {},
   "outputs": [
    {
     "data": {
      "text/html": [
       "<div>\n",
       "<style scoped>\n",
       "    .dataframe tbody tr th:only-of-type {\n",
       "        vertical-align: middle;\n",
       "    }\n",
       "\n",
       "    .dataframe tbody tr th {\n",
       "        vertical-align: top;\n",
       "    }\n",
       "\n",
       "    .dataframe thead th {\n",
       "        text-align: right;\n",
       "    }\n",
       "</style>\n",
       "<table border=\"1\" class=\"dataframe\">\n",
       "  <thead>\n",
       "    <tr style=\"text-align: right;\">\n",
       "      <th></th>\n",
       "      <th>State</th>\n",
       "      <th>SO2</th>\n",
       "      <th>NO2</th>\n",
       "      <th>PM25</th>\n",
       "      <th>PM10</th>\n",
       "      <th>SOi</th>\n",
       "      <th>NOi</th>\n",
       "      <th>PM25i</th>\n",
       "      <th>PM10i</th>\n",
       "      <th>AQI</th>\n",
       "      <th>AQI_Range</th>\n",
       "    </tr>\n",
       "  </thead>\n",
       "  <tbody>\n",
       "    <tr>\n",
       "      <th>0</th>\n",
       "      <td>Andhra Pradesh</td>\n",
       "      <td>4.8</td>\n",
       "      <td>17.4</td>\n",
       "      <td>0.0</td>\n",
       "      <td>0.0</td>\n",
       "      <td>6.000</td>\n",
       "      <td>21.750</td>\n",
       "      <td>0.0</td>\n",
       "      <td>0.0</td>\n",
       "      <td>21.750</td>\n",
       "      <td>Good</td>\n",
       "    </tr>\n",
       "    <tr>\n",
       "      <th>1</th>\n",
       "      <td>Andhra Pradesh</td>\n",
       "      <td>3.1</td>\n",
       "      <td>7.0</td>\n",
       "      <td>0.0</td>\n",
       "      <td>0.0</td>\n",
       "      <td>3.875</td>\n",
       "      <td>8.750</td>\n",
       "      <td>0.0</td>\n",
       "      <td>0.0</td>\n",
       "      <td>8.750</td>\n",
       "      <td>Good</td>\n",
       "    </tr>\n",
       "    <tr>\n",
       "      <th>2</th>\n",
       "      <td>Andhra Pradesh</td>\n",
       "      <td>6.2</td>\n",
       "      <td>28.5</td>\n",
       "      <td>0.0</td>\n",
       "      <td>0.0</td>\n",
       "      <td>7.750</td>\n",
       "      <td>35.625</td>\n",
       "      <td>0.0</td>\n",
       "      <td>0.0</td>\n",
       "      <td>35.625</td>\n",
       "      <td>Good</td>\n",
       "    </tr>\n",
       "    <tr>\n",
       "      <th>3</th>\n",
       "      <td>Andhra Pradesh</td>\n",
       "      <td>6.3</td>\n",
       "      <td>14.7</td>\n",
       "      <td>0.0</td>\n",
       "      <td>0.0</td>\n",
       "      <td>7.875</td>\n",
       "      <td>18.375</td>\n",
       "      <td>0.0</td>\n",
       "      <td>0.0</td>\n",
       "      <td>18.375</td>\n",
       "      <td>Good</td>\n",
       "    </tr>\n",
       "    <tr>\n",
       "      <th>4</th>\n",
       "      <td>Andhra Pradesh</td>\n",
       "      <td>4.7</td>\n",
       "      <td>7.5</td>\n",
       "      <td>0.0</td>\n",
       "      <td>0.0</td>\n",
       "      <td>5.875</td>\n",
       "      <td>9.375</td>\n",
       "      <td>0.0</td>\n",
       "      <td>0.0</td>\n",
       "      <td>9.375</td>\n",
       "      <td>Good</td>\n",
       "    </tr>\n",
       "  </tbody>\n",
       "</table>\n",
       "</div>"
      ],
      "text/plain": [
       "            State  SO2   NO2  PM25  PM10    SOi     NOi  PM25i  PM10i     AQI  \\\n",
       "0  Andhra Pradesh  4.8  17.4   0.0   0.0  6.000  21.750    0.0    0.0  21.750   \n",
       "1  Andhra Pradesh  3.1   7.0   0.0   0.0  3.875   8.750    0.0    0.0   8.750   \n",
       "2  Andhra Pradesh  6.2  28.5   0.0   0.0  7.750  35.625    0.0    0.0  35.625   \n",
       "3  Andhra Pradesh  6.3  14.7   0.0   0.0  7.875  18.375    0.0    0.0  18.375   \n",
       "4  Andhra Pradesh  4.7   7.5   0.0   0.0  5.875   9.375    0.0    0.0   9.375   \n",
       "\n",
       "  AQI_Range  \n",
       "0      Good  \n",
       "1      Good  \n",
       "2      Good  \n",
       "3      Good  \n",
       "4      Good  "
      ]
     },
     "execution_count": 74,
     "metadata": {},
     "output_type": "execute_result"
    }
   ],
   "source": [
    "def AQI_Range(x):\n",
    "    if x<=50:\n",
    "        return \"Good\"\n",
    "    elif x>50 and x<=100:\n",
    "        return 'Moderate'\n",
    "    elif x>100 and x<=200:\n",
    "        return 'Poor'\n",
    "    elif x>200 and x<=300:\n",
    "        return 'Unhealty'\n",
    "    elif x>300 and x<=400:\n",
    "        return 'Very Unhealthy'\n",
    "    elif x>400:\n",
    "        return 'Hazardous'\n",
    "df[\"AQI_Range\"]=df[\"AQI\"].apply(AQI_Range)\n",
    "df.head()"
   ]
  },
  {
   "cell_type": "code",
   "execution_count": 75,
   "id": "b67a4bca",
   "metadata": {},
   "outputs": [
    {
     "data": {
      "text/plain": [
       "AQI_Range\n",
       "Poor              116204\n",
       "Very Unhealthy    108498\n",
       "Moderate           79865\n",
       "Unhealty           71434\n",
       "Hazardous          32209\n",
       "Good               27532\n",
       "Name: count, dtype: int64"
      ]
     },
     "execution_count": 75,
     "metadata": {},
     "output_type": "execute_result"
    }
   ],
   "source": [
    "df[\"AQI_Range\"].value_counts()\n",
    "#Count of the values of present in the AQI range Column"
   ]
  },
  {
   "cell_type": "code",
   "execution_count": 97,
   "id": "c0fe1ef3",
   "metadata": {},
   "outputs": [
    {
     "data": {
      "text/html": [
       "<div>\n",
       "<style scoped>\n",
       "    .dataframe tbody tr th:only-of-type {\n",
       "        vertical-align: middle;\n",
       "    }\n",
       "\n",
       "    .dataframe tbody tr th {\n",
       "        vertical-align: top;\n",
       "    }\n",
       "\n",
       "    .dataframe thead th {\n",
       "        text-align: right;\n",
       "    }\n",
       "</style>\n",
       "<table border=\"1\" class=\"dataframe\">\n",
       "  <thead>\n",
       "    <tr style=\"text-align: right;\">\n",
       "      <th></th>\n",
       "      <th>SOi</th>\n",
       "      <th>NOi</th>\n",
       "      <th>PM25i</th>\n",
       "      <th>PM10i</th>\n",
       "    </tr>\n",
       "  </thead>\n",
       "  <tbody>\n",
       "    <tr>\n",
       "      <th>0</th>\n",
       "      <td>6.000</td>\n",
       "      <td>21.750</td>\n",
       "      <td>0.0</td>\n",
       "      <td>0.0</td>\n",
       "    </tr>\n",
       "    <tr>\n",
       "      <th>1</th>\n",
       "      <td>3.875</td>\n",
       "      <td>8.750</td>\n",
       "      <td>0.0</td>\n",
       "      <td>0.0</td>\n",
       "    </tr>\n",
       "    <tr>\n",
       "      <th>2</th>\n",
       "      <td>7.750</td>\n",
       "      <td>35.625</td>\n",
       "      <td>0.0</td>\n",
       "      <td>0.0</td>\n",
       "    </tr>\n",
       "    <tr>\n",
       "      <th>3</th>\n",
       "      <td>7.875</td>\n",
       "      <td>18.375</td>\n",
       "      <td>0.0</td>\n",
       "      <td>0.0</td>\n",
       "    </tr>\n",
       "    <tr>\n",
       "      <th>4</th>\n",
       "      <td>5.875</td>\n",
       "      <td>9.375</td>\n",
       "      <td>0.0</td>\n",
       "      <td>0.0</td>\n",
       "    </tr>\n",
       "  </tbody>\n",
       "</table>\n",
       "</div>"
      ],
      "text/plain": [
       "     SOi     NOi  PM25i  PM10i\n",
       "0  6.000  21.750    0.0    0.0\n",
       "1  3.875   8.750    0.0    0.0\n",
       "2  7.750  35.625    0.0    0.0\n",
       "3  7.875  18.375    0.0    0.0\n",
       "4  5.875   9.375    0.0    0.0"
      ]
     },
     "execution_count": 97,
     "metadata": {},
     "output_type": "execute_result"
    }
   ],
   "source": [
    "x=df[[\"SOi\",'NOi','PM25i','PM10i']]\n",
    "y=df[\"AQI\"]\n",
    "x.head()\n",
    "#only selected column like soi, noi, rpi, spmi"
   ]
  },
  {
   "cell_type": "code",
   "execution_count": 98,
   "id": "b33e9903",
   "metadata": {},
   "outputs": [
    {
     "data": {
      "text/plain": [
       "0    21.750\n",
       "1     8.750\n",
       "2    35.625\n",
       "3    18.375\n",
       "4     9.375\n",
       "Name: AQI, dtype: float64"
      ]
     },
     "execution_count": 98,
     "metadata": {},
     "output_type": "execute_result"
    }
   ],
   "source": [
    "y.head()\n",
    "#Target Column"
   ]
  },
  {
   "cell_type": "markdown",
   "id": "c97507ce",
   "metadata": {},
   "source": [
    "# Testing and Training Data"
   ]
  },
  {
   "cell_type": "code",
   "execution_count": 99,
   "id": "7f1c65c0",
   "metadata": {},
   "outputs": [
    {
     "name": "stdout",
     "output_type": "stream",
     "text": [
      "(348593, 4) (87149, 4) (348593,) (87149,)\n"
     ]
    }
   ],
   "source": [
    "x_train,x_test,y_train,y_test=train_test_split(x,y,test_size=0.2,random_state=70)\n",
    "print(x_train.shape,x_test.shape,y_train.shape,y_test.shape)\n",
    "#Splitting the Data into train and test"
   ]
  },
  {
   "cell_type": "code",
   "execution_count": 100,
   "id": "0887626b",
   "metadata": {},
   "outputs": [
    {
     "name": "stdout",
     "output_type": "stream",
     "text": [
      "RMSE TainingData =  47.27376002716514\n",
      "RMSE TestData =  47.48858264207249\n",
      "--------------------------------------------------\n",
      "RSquared Value on train :  0.8584898801885024\n",
      "RSquared Value on test :  0.8566397955895578\n"
     ]
    }
   ],
   "source": [
    "model=LinearRegression()\n",
    "model.fit(x_train,y_train)\n",
    "\n",
    "#predicting_train\n",
    "train_pred=model.predict(x_train)\n",
    "#predicting on test\n",
    "test_pred=model.predict(x_test)\n",
    "\n",
    "RMSE_train=(np.sqrt(metrics.mean_squared_error(y_train,train_pred)))\n",
    "RMSE_test=(np.sqrt(metrics.mean_squared_error(y_test,test_pred)))\n",
    "print(\"RMSE TainingData = \",str(RMSE_train))\n",
    "print(\"RMSE TestData = \",str(RMSE_test))\n",
    "print('-'*50)\n",
    "print('RSquared Value on train : ',model.score(x_train,y_train))\n",
    "print('RSquared Value on test : ',model.score(x_test,y_test))"
   ]
  },
  {
   "cell_type": "code",
   "execution_count": 101,
   "id": "fd59c4be",
   "metadata": {},
   "outputs": [
    {
     "name": "stdout",
     "output_type": "stream",
     "text": [
      "RMSE TainingData =  5.358930771394717e-11\n",
      "RMSE TestData =  2.05576530617744\n",
      "--------------------------------------------------\n",
      "RSquared Value on train :  1.0\n",
      "RSquared Value on test :  0.9997313435565617\n"
     ]
    }
   ],
   "source": [
    "DT=DecisionTreeRegressor()\n",
    "DT.fit(x_train,y_train)\n",
    "\n",
    "#predicting_train\n",
    "train_preds=DT.predict(x_train)\n",
    "#predicting on test\n",
    "test_preds=DT.predict(x_test)\n",
    "\n",
    "RMSE_train=(np.sqrt(metrics.mean_squared_error(y_train,train_preds)))\n",
    "RMSE_test=(np.sqrt(metrics.mean_squared_error(y_test,test_preds)))\n",
    "print(\"RMSE TainingData = \",str(RMSE_train))\n",
    "print(\"RMSE TestData = \",str(RMSE_test))\n",
    "print('-'*50)\n",
    "print('RSquared Value on train : ',DT.score(x_train,y_train))\n",
    "print('RSquared Value on test : ',DT.score(x_test,y_test))"
   ]
  },
  {
   "cell_type": "code",
   "execution_count": 102,
   "id": "ccfebc10",
   "metadata": {},
   "outputs": [
    {
     "name": "stdout",
     "output_type": "stream",
     "text": [
      "RMSE TainingData =  2.971363182573823\n",
      "RMSE TestData =  1.5523994683026812\n",
      "--------------------------------------------------\n",
      "RSquared Value on train :  0.9994409396633082\n",
      "RSquared Value on test :  0.9998468005638755\n"
     ]
    }
   ],
   "source": [
    "RF=RandomForestRegressor().fit(x_train,y_train)\n",
    "\n",
    "#predicting_train\n",
    "train_preds1=RF.predict(x_train)\n",
    "#predicting on test\n",
    "test_preds1=RF.predict(x_test)\n",
    "\n",
    "RMSE_train=(np.sqrt(metrics.mean_squared_error(y_train,train_preds1)))\n",
    "RMSE_test=(np.sqrt(metrics.mean_squared_error(y_test,test_preds1)))\n",
    "print(\"RMSE TainingData = \",str(RMSE_train))\n",
    "print(\"RMSE TestData = \",str(RMSE_test))\n",
    "print('-'*50)\n",
    "print('RSquared Value on train : ',RF.score(x_train,y_train))\n",
    "print('RSquared Value on test : ',RF.score(x_test,y_test))"
   ]
  },
  {
   "cell_type": "code",
   "execution_count": 103,
   "id": "5afc3fcb",
   "metadata": {},
   "outputs": [],
   "source": [
    "from sklearn.linear_model import LogisticRegression\n",
    "from sklearn.tree import DecisionTreeClassifier\n",
    "from sklearn.ensemble import RandomForestClassifier\n",
    "from sklearn.neighbors import KNeighborsClassifier\n",
    "\n",
    "x2=df[['SOi','NOi','PM25i','PM10i']]\n",
    "y2=df['AQI_Range']\n",
    "\n",
    "x_train2, x_test2, y_train2, y_test2 = train_test_split(x2,y2,test_size=0.30,random_state=70)"
   ]
  },
  {
   "cell_type": "markdown",
   "id": "bc6ec8c6",
   "metadata": {},
   "source": [
    "# Classification of the Model"
   ]
  },
  {
   "cell_type": "code",
   "execution_count": 104,
   "id": "9e06262f",
   "metadata": {},
   "outputs": [
    {
     "name": "stdout",
     "output_type": "stream",
     "text": [
      "Model accuracy on train is :  0.40408302433618887\n",
      "Model accuracy on train is :  0.40403754503798106\n",
      "--------------------------------------------------\n",
      "Kappa Score :  0.23023176558069358\n"
     ]
    }
   ],
   "source": [
    "#Fit the model on train data\n",
    "log_reg=LogisticRegression().fit(x_train2,y_train2)\n",
    "\n",
    "#predict on train\n",
    "train_preds2=log_reg.predict(x_train2)\n",
    "#accuracy on train\n",
    "print(\"Model accuracy on train is : \",accuracy_score(y_train2,train_preds2))\n",
    "\n",
    "#predict on test\n",
    "test_preds2=log_reg.predict(x_test2)\n",
    "#accuracty on test\n",
    "print(\"Model accuracy on train is : \",accuracy_score(y_test2,test_preds2))\n",
    "print(\"-\"*50)\n",
    "\n",
    "#Kappa Score\n",
    "print(\"Kappa Score : \",metrics.cohen_kappa_score(y_test2,test_preds2))"
   ]
  },
  {
   "cell_type": "code",
   "execution_count": 105,
   "id": "931bc7f7",
   "metadata": {},
   "outputs": [
    {
     "name": "stdout",
     "output_type": "stream",
     "text": [
      "Model accuracy on train is :  1.0\n",
      "Model accuracy on train is :  0.9994568668099723\n",
      "--------------------------------------------------\n",
      "Kappa Score :  0.9993185077302613\n"
     ]
    }
   ],
   "source": [
    "#Fit the model on train data\n",
    "DT2=DecisionTreeClassifier().fit(x_train2,y_train2)\n",
    "\n",
    "#predict on train\n",
    "train_preds3=DT2.predict(x_train2)\n",
    "#accuracy on train\n",
    "print(\"Model accuracy on train is : \",accuracy_score(y_train2,train_preds3))\n",
    "\n",
    "#predict on test\n",
    "test_preds3=DT2.predict(x_test2)\n",
    "#accuracty on test\n",
    "print(\"Model accuracy on train is : \",accuracy_score(y_test2,test_preds3))\n",
    "print(\"-\"*50)\n",
    "\n",
    "#Kappa Score\n",
    "print(\"Kappa Score : \",metrics.cohen_kappa_score(y_test2,test_preds3))"
   ]
  },
  {
   "cell_type": "code",
   "execution_count": 106,
   "id": "87e30d88",
   "metadata": {},
   "outputs": [
    {
     "name": "stdout",
     "output_type": "stream",
     "text": [
      "Model accuracy on train is :  1.0\n",
      "Model accuracy on train is :  0.9994339175202528\n",
      "--------------------------------------------------\n",
      "Kappa Score :  0.9992896372530368\n"
     ]
    }
   ],
   "source": [
    "#Fit the model on train data\n",
    "RF=RandomForestClassifier().fit(x_train2,y_train2)\n",
    "\n",
    "#predict on train\n",
    "train_preds4=RF.predict(x_train2)\n",
    "#accuracy on train\n",
    "print(\"Model accuracy on train is : \",accuracy_score(y_train2,train_preds4))\n",
    "\n",
    "#predict on test\n",
    "test_preds4=RF.predict(x_test2)\n",
    "#accuracty on test\n",
    "print(\"Model accuracy on train is : \",accuracy_score(y_test2,test_preds4))\n",
    "print(\"-\"*50)\n",
    "\n",
    "#Kappa Score\n",
    "print(\"Kappa Score : \",metrics.cohen_kappa_score(y_test2,test_preds4))"
   ]
  },
  {
   "cell_type": "code",
   "execution_count": 107,
   "id": "87e2b52b",
   "metadata": {},
   "outputs": [
    {
     "name": "stdout",
     "output_type": "stream",
     "text": [
      "Model accuracy on train is :  0.9945150957809186\n",
      "Model accuracy on train is :  0.9907055376636094\n",
      "--------------------------------------------------\n",
      "Kappa Score :  0.9883328861450505\n"
     ]
    }
   ],
   "source": [
    "#Fit the model on train data\n",
    "KNN=KNeighborsClassifier().fit(x_train2,y_train2)\n",
    "\n",
    "#predict on train\n",
    "train_preds5=KNN.predict(x_train2)\n",
    "#accuracy on train\n",
    "print(\"Model accuracy on train is : \",accuracy_score(y_train2,train_preds5))\n",
    "\n",
    "#predict on test\n",
    "test_preds5=KNN.predict(x_test2)\n",
    "#accuracty on test\n",
    "print(\"Model accuracy on train is : \",accuracy_score(y_test2,test_preds5))\n",
    "print(\"-\"*50)\n",
    "\n",
    "#Kappa Score\n",
    "print(\"Kappa Score : \",metrics.cohen_kappa_score(y_test2,test_preds5))"
   ]
  },
  {
   "cell_type": "markdown",
   "id": "e1916561",
   "metadata": {},
   "source": [
    "# Testing The Results"
   ]
  },
  {
   "cell_type": "code",
   "execution_count": 108,
   "id": "585b5f14",
   "metadata": {},
   "outputs": [
    {
     "name": "stdout",
     "output_type": "stream",
     "text": [
      "Logistic Regression prediction :  ['Hazardous']\n",
      "Decision Tree prediction :  ['Hazardous']\n",
      "Random Forest prediction :  ['Hazardous']\n",
      "KNN prediction :  ['Hazardous']\n"
     ]
    }
   ],
   "source": [
    "# Patna pm10 icon\n",
    "# 552 (PM10)\n",
    " \n",
    "# Patna sulphur sioxide s\n",
    "# Patna nitrogen dioxide no2 icon\n",
    "# 18 (NO2)\n",
    "\n",
    "print(\"Logistic Regression prediction : \",log_reg.predict([[4,18,246,552]]))\n",
    "print(\"Decision Tree prediction : \",DT2.predict([[4,18,246,552]]))\n",
    "print(\"Random Forest prediction : \",RF.predict([[4,18,246,552]]))\n",
    "print(\"KNN prediction : \",KNN.predict([[4,18,246,552]]))"
   ]
  },
  {
   "cell_type": "code",
   "execution_count": 109,
   "id": "cf3fe373",
   "metadata": {},
   "outputs": [
    {
     "name": "stdout",
     "output_type": "stream",
     "text": [
      "Logistic Regression prediction :  ['Hazardous']\n",
      "Decision Tree prediction :  ['Unhealty']\n",
      "Random Forest prediction :  ['Unhealty']\n",
      "KNN prediction :  ['Unhealty']\n"
     ]
    }
   ],
   "source": [
    "# Ghaziabad sulphur sioxide so2 icon\n",
    "# 4 (SO2)\n",
    " \n",
    "# Ghaziabad nitrogen dioxide no2 icon\n",
    "# 20 (NO2)\n",
    "\n",
    "# Ghaziabad pm2.5 icon\n",
    "# 145 (PM2.5)\n",
    " \n",
    "# Ghaziabad pm10 icon\n",
    "# 263 (PM10)\n",
    "\n",
    "print(\"Logistic Regression prediction : \",log_reg.predict([[4,20,145,263]]))\n",
    "print(\"Decision Tree prediction : \",DT2.predict([[4,20,145,263]]))\n",
    "print(\"Random Forest prediction : \",RF.predict([[4,20,145,263]]))\n",
    "print(\"KNN prediction : \",KNN.predict([[4,20,145,263]]))"
   ]
  },
  {
   "cell_type": "code",
   "execution_count": 110,
   "id": "322f78b6",
   "metadata": {},
   "outputs": [
    {
     "name": "stdout",
     "output_type": "stream",
     "text": [
      "Logistic Regression prediction :  ['Poor']\n",
      "Decision Tree prediction :  ['Good']\n",
      "Random Forest prediction :  ['Good']\n",
      "KNN prediction :  ['Good']\n"
     ]
    }
   ],
   "source": [
    "# Imphal sulphur sioxide so2 icon\n",
    "# 9 (SO2)\n",
    " \n",
    "# Imphal nitrogen dioxide no2 icon\n",
    "# 2 (NO2)\n",
    "\n",
    "# Imphal pm2.5 icon\n",
    "# 2 (PM2.5)\n",
    " \n",
    "# Imphal pm10 icon\n",
    "# 19 (PM10)\n",
    "print(\"Logistic Regression prediction : \",log_reg.predict([[9,2,2,19]]))\n",
    "print(\"Decision Tree prediction : \",DT2.predict([[9,2,2,19]]))\n",
    "print(\"Random Forest prediction : \",RF.predict([[9,2,2,19]]))\n",
    "print(\"KNN prediction : \",KNN.predict([[9,2,2,19]]))"
   ]
  }
 ],
 "metadata": {
  "kernelspec": {
   "display_name": "Python 3 (ipykernel)",
   "language": "python",
   "name": "python3"
  },
  "language_info": {
   "codemirror_mode": {
    "name": "ipython",
    "version": 3
   },
   "file_extension": ".py",
   "mimetype": "text/x-python",
   "name": "python",
   "nbconvert_exporter": "python",
   "pygments_lexer": "ipython3",
   "version": "3.11.3"
  }
 },
 "nbformat": 4,
 "nbformat_minor": 5
}
